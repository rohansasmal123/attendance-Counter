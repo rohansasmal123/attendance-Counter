{
 "cells": [
  {
   "cell_type": "code",
   "execution_count": 1,
   "metadata": {},
   "outputs": [],
   "source": [
    "import cv2\n",
    "cap = cv2.VideoCapture(0)\n",
    "face_model = cv2.CascadeClassifier('haarcascade_frontalface_default.xml')"
   ]
  },
  {
   "cell_type": "code",
   "execution_count": 2,
   "metadata": {},
   "outputs": [],
   "source": [
    "while True:\n",
    "    status, photo = cap.read()\n",
    "    face_cor = face_model.detectMultiScale(photo)\n",
    "    if len(face_cor) == 0:\n",
    "        pass\n",
    "    else:\n",
    "        i=0\n",
    "        while i<len(face_cor): \n",
    "            x1 = face_cor[i][0]\n",
    "            y1 = face_cor[i][1]\n",
    "            x2 = x1+face_cor[i][2]\n",
    "            y2 = y1 + face_cor[i][3]\n",
    "            photo = cv2.rectangle(photo,(x1,y1), (x2,y2), [0,255,0], 2 )\n",
    "            i=i+1\n",
    "        l = \"Attendance: \"+str(len(face_cor))\n",
    "        cv2.putText(photo,l,(50,50), cv2.FONT_HERSHEY_SIMPLEX,1, (0,255,0),3, cv2.LINE_AA)\n",
    "        #print(\"({0},{1}),({2},{3})\",.for)\n",
    "        #m1 = (x1+x2)/2;\n",
    "        #m2 = (y1+y2)/2;\n",
    "        #mid = str(m1)+\",\"+str(m2)\n",
    "        #cv2.putText(photo, mid, (50,50),cv2.FONT_HERSHEY_SIMPLEX,1,(0,255,0),3,cv2.LINE_AA)\n",
    "        cv2.imshow('hi', photo)\n",
    "        if cv2.waitKey(50) == 13:\n",
    "            break\n",
    "\n",
    "cv2.destroyAllWindows()"
   ]
  },
  {
   "cell_type": "code",
   "execution_count": 7,
   "metadata": {},
   "outputs": [
    {
     "data": {
      "text/plain": [
       "'Attendance: 1'"
      ]
     },
     "execution_count": 7,
     "metadata": {},
     "output_type": "execute_result"
    }
   ],
   "source": [
    "l"
   ]
  },
  {
   "cell_type": "code",
   "execution_count": 12,
   "metadata": {},
   "outputs": [],
   "source": [
    "import smtplib\n",
    "\n",
    "from string import Template\n",
    "\n",
    "from email.mime.multipart import MIMEMultipart\n",
    "from email.mime.text import MIMEText\n",
    "\n",
    "MY_ADDRESS = 'rohansasmal123@gmail.com'\n",
    "PASSWORD = 'R8759802184'\n",
    "\n",
    "def main():\n",
    "    names, emails = \"Rohan\", \"softwarehub249@gmail.com\"\n",
    "    message_template = l\n",
    "\n",
    "    # set up the SMTP server\n",
    "    s = smtplib.SMTP('smtp.gmail.com', 587)\n",
    "    s.starttls()\n",
    "    s.login(MY_ADDRESS, PASSWORD)\n",
    "\n",
    "    # For each contact, send the email:\n",
    "    #for name, email in zip(names, emails):\n",
    "    msg = MIMEMultipart()       # create a message\n",
    "\n",
    "    # add in the actual person name to the message template\n",
    "    #message = message_template.substitute(PERSON_NAME=name.title())\n",
    "\n",
    "    # Prints out the message body for our sake\n",
    "    #print(message)\n",
    "\n",
    "    # setup the parameters of the message\n",
    "    msg['From']=MY_ADDRESS\n",
    "    msg['To']='softwarehub249@gmail.com'\n",
    "    msg['Subject']=\"Attendance\"\n",
    "        \n",
    "    # add in the message body\n",
    "    msg.attach(MIMEText(message_template, 'plain'))\n",
    "        \n",
    "    # send the message via the server set up earlier.\n",
    "    s.send_message(msg)\n",
    "    del msg\n",
    "        \n",
    "    # Terminate the SMTP session and close the connection\n",
    "    s.quit()\n",
    "    \n",
    "if __name__ == '__main__':\n",
    "    main()"
   ]
  },
  {
   "cell_type": "code",
   "execution_count": 9,
   "metadata": {},
   "outputs": [],
   "source": []
  },
  {
   "cell_type": "code",
   "execution_count": 5,
   "metadata": {},
   "outputs": [],
   "source": [
    "cap.release()"
   ]
  },
  {
   "cell_type": "code",
   "execution_count": 8,
   "metadata": {},
   "outputs": [
    {
     "data": {
      "text/plain": [
       "'Attendance: 1'"
      ]
     },
     "execution_count": 8,
     "metadata": {},
     "output_type": "execute_result"
    }
   ],
   "source": [
    "msg"
   ]
  },
  {
   "cell_type": "code",
   "execution_count": null,
   "metadata": {},
   "outputs": [],
   "source": []
  }
 ],
 "metadata": {
  "kernelspec": {
   "display_name": "Python 3",
   "language": "python",
   "name": "python3"
  },
  "language_info": {
   "codemirror_mode": {
    "name": "ipython",
    "version": 3
   },
   "file_extension": ".py",
   "mimetype": "text/x-python",
   "name": "python",
   "nbconvert_exporter": "python",
   "pygments_lexer": "ipython3",
   "version": "3.7.3"
  }
 },
 "nbformat": 4,
 "nbformat_minor": 2
}
